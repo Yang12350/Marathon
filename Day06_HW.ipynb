{
 "cells": [
  {
   "cell_type": "markdown",
   "metadata": {},
   "source": [
    "# API 資料串接 - 以 知乎 API 實作範例\n",
    "\n",
    "\n",
    "\n",
    "* 了解知乎 API 使用方式與回傳內容\n",
    "* 撰寫程式存取 API 且添加標頭\n",
    "\n",
    "\n"
   ]
  },
  {
   "cell_type": "markdown",
   "metadata": {},
   "source": [
    "## 作業目標\n",
    "\n",
    "* 根據範例提供的 API ，完成以下問題：\n",
    "\n",
    "    1. 取出知乎問題發問時間\n",
    "    2. 取出第一筆與最後一筆回答的時間\n"
   ]
  },
  {
   "cell_type": "markdown",
   "metadata": {},
   "source": [
    "### 1. 取出知乎問題發問時間"
   ]
  },
  {
   "cell_type": "code",
   "execution_count": 50,
   "metadata": {},
   "outputs": [
    {
     "name": "stdout",
     "output_type": "stream",
     "text": [
      "{'id': 637938925, 'type': 'answer', 'answer_type': 'normal', 'question': {'type': 'question', 'id': 55493026, 'title': '你们都是怎么学 Python 的？', 'question_type': 'normal', 'created': 1486390229, 'updated_time': 1582533957, 'url': 'https://www.zhihu.com/api/v4/questions/55493026', 'relationship': {}}, 'author': {'id': 'e8c4768eaa41e3749f7e8bc5ac6aa74b', 'url_token': 'Lanyuneet', 'name': 'Slumbers', 'avatar_url': 'https://pic2.zhimg.com/v2-f950cfef511d33500177be90030dcd3d_is.jpg', 'avatar_url_template': 'https://pic2.zhimg.com/v2-f950cfef511d33500177be90030dcd3d_{size}.jpg', 'is_org': False, 'type': 'people', 'url': 'https://www.zhihu.com/api/v4/people/e8c4768eaa41e3749f7e8bc5ac6aa74b', 'user_type': 'people', 'headline': '算法工程师', 'badge': [], 'gender': 0, 'is_advertiser': False, 'is_privacy': False}, 'url': 'https://www.zhihu.com/api/v4/answers/637938925', 'is_collapsed': False, 'created_time': 1554085028, 'updated_time': 1558451618, 'extras': '', 'is_copyable': True, 'relationship': {'upvoted_followees': []}, 'ad_answer': None}\n",
      "{'id': 683070334, 'type': 'answer', 'answer_type': 'normal', 'question': {'type': 'question', 'id': 55493026, 'title': '你们都是怎么学 Python 的？', 'question_type': 'normal', 'created': 1486390229, 'updated_time': 1582533957, 'url': 'https://www.zhihu.com/api/v4/questions/55493026', 'relationship': {}}, 'author': {'id': '36f69162230003d316d0b8a6d8da20ba', 'url_token': 'liang-zi-wei-48', 'name': '量子位', 'avatar_url': 'https://pic4.zhimg.com/v2-ca6e7ffc10a0d10edbae635cee82d007_is.jpg', 'avatar_url_template': 'https://pic4.zhimg.com/v2-ca6e7ffc10a0d10edbae635cee82d007_{size}.jpg', 'is_org': True, 'type': 'people', 'url': 'https://www.zhihu.com/api/v4/people/36f69162230003d316d0b8a6d8da20ba', 'user_type': 'organization', 'headline': '有趣的AI&amp;前沿科技→_→ 公众号：QbitAI', 'badge': [{'type': 'identity', 'description': '已认证的官方帐号', 'topics': []}, {'type': 'best_answerer', 'description': '优秀回答者', 'topics': []}], 'gender': -1, 'is_advertiser': False, 'is_privacy': False}, 'url': 'https://www.zhihu.com/api/v4/answers/683070334', 'is_collapsed': False, 'created_time': 1557824412, 'updated_time': 1557824412, 'extras': '', 'is_copyable': True, 'relationship': {'upvoted_followees': []}, 'ad_answer': None}\n",
      "{'id': 1106818911, 'type': 'answer', 'answer_type': 'paid', 'question': {'type': 'question', 'id': 55493026, 'title': '你们都是怎么学 Python 的？', 'question_type': 'normal', 'created': 1486390229, 'updated_time': 1582533957, 'url': 'https://www.zhihu.com/api/v4/questions/55493026', 'relationship': {}}, 'author': {'id': '1ab00059f301920f1dae9d92386937e6', 'url_token': 'zhi-hu-ke-tang', 'name': '知乎课堂', 'avatar_url': 'https://pic4.zhimg.com/v2-7e2770be649e098dd01dd69116c2c8d6_is.jpg', 'avatar_url_template': 'https://pic4.zhimg.com/v2-7e2770be649e098dd01dd69116c2c8d6_{size}.jpg', 'is_org': True, 'type': 'people', 'url': 'https://www.zhihu.com/api/v4/people/1ab00059f301920f1dae9d92386937e6', 'user_type': 'organization', 'headline': '欢迎关注公众号：知乎职场圈，每天解锁一个新技能。', 'badge': [{'type': 'identity', 'description': '已认证的官方帐号', 'topics': []}], 'gender': -1, 'is_advertiser': True, 'is_privacy': False}, 'url': 'https://www.zhihu.com/api/v4/answers/1106818911', 'is_collapsed': False, 'created_time': 1585227854, 'updated_time': 1585227854, 'extras': '', 'is_copyable': False, 'relationship': {'upvoted_followees': []}, 'ad_answer': None}\n",
      "{'id': 163537026, 'type': 'answer', 'answer_type': 'normal', 'question': {'type': 'question', 'id': 55493026, 'title': '你们都是怎么学 Python 的？', 'question_type': 'normal', 'created': 1486390229, 'updated_time': 1582533957, 'url': 'https://www.zhihu.com/api/v4/questions/55493026', 'relationship': {}}, 'author': {'id': 'eaf435b228ce0b038a4afe8203f59b49', 'url_token': 'sgai', 'name': '路人甲', 'avatar_url': 'https://pic3.zhimg.com/958a18f3216805bed269d158fb83325a_is.jpg', 'avatar_url_template': 'https://pic3.zhimg.com/958a18f3216805bed269d158fb83325a_{size}.jpg', 'is_org': False, 'type': 'people', 'url': 'https://www.zhihu.com/api/v4/people/eaf435b228ce0b038a4afe8203f59b49', 'user_type': 'people', 'headline': '微信公众号：路人甲TM，微信：thisnozy', 'badge': [], 'gender': 1, 'is_advertiser': False, 'is_privacy': False}, 'url': 'https://www.zhihu.com/api/v4/answers/163537026', 'is_collapsed': False, 'created_time': 1493693113, 'updated_time': 1579138388, 'extras': '', 'is_copyable': True, 'relationship': {'upvoted_followees': []}, 'ad_answer': None}\n",
      "{'id': 873825546, 'type': 'answer', 'answer_type': 'normal', 'question': {'type': 'question', 'id': 55493026, 'title': '你们都是怎么学 Python 的？', 'question_type': 'normal', 'created': 1486390229, 'updated_time': 1582533957, 'url': 'https://www.zhihu.com/api/v4/questions/55493026', 'relationship': {}}, 'author': {'id': '4d1c2c77bc7431c2a6006d154198e8b9', 'url_token': 'ji-de-yao-xing-fu', 'name': '痴海', 'avatar_url': 'https://pic3.zhimg.com/v2-f9642b41b7729c029c6c7978c4c019e8_is.jpg', 'avatar_url_template': 'https://pic3.zhimg.com/v2-f9642b41b7729c029c6c7978c4c019e8_{size}.jpg', 'is_org': False, 'type': 'people', 'url': 'https://www.zhihu.com/api/v4/people/4d1c2c77bc7431c2a6006d154198e8b9', 'user_type': 'people', 'headline': '公众号「痴海」: 一起向上成长，成为一个厉害的人', 'badge': [], 'gender': 1, 'is_advertiser': False, 'is_privacy': False}, 'url': 'https://www.zhihu.com/api/v4/answers/873825546', 'is_collapsed': False, 'created_time': 1572318426, 'updated_time': 1587220473, 'extras': '', 'is_copyable': False, 'relationship': {'upvoted_followees': []}, 'ad_answer': None}\n"
     ]
    }
   ],
   "source": [
    "# 1. 取出知乎問題發問時間\n",
    "\n",
    "import requests\n",
    "import json\n",
    "headers = {'user-agent': 'my-app/0.0.1'}\n",
    "r = requests.get('https://www.zhihu.com/api/v4/questions/55493026/answers',headers=headers)\n",
    "response = r.text\n",
    "response\n",
    "data = json.loads(response)\n",
    "\n",
    "for d in data['data']:\n",
    "    print(d)"
   ]
  },
  {
   "cell_type": "code",
   "execution_count": 39,
   "metadata": {},
   "outputs": [
    {
     "name": "stdout",
     "output_type": "stream",
     "text": [
      "每一筆資料包含以下資料: dict_keys(['id', 'type', 'answer_type', 'question', 'author', 'url', 'is_collapsed', 'created_time', 'updated_time', 'extras', 'is_copyable', 'relationship', 'ad_answer'])\n"
     ]
    }
   ],
   "source": [
    "print('每一筆資料包含以下資料:', data['data'][0].keys())"
   ]
  },
  {
   "cell_type": "code",
   "execution_count": 48,
   "metadata": {},
   "outputs": [
    {
     "name": "stdout",
     "output_type": "stream",
     "text": [
      "表格化\n"
     ]
    },
    {
     "data": {
      "text/html": [
       "<div>\n",
       "<style scoped>\n",
       "    .dataframe tbody tr th:only-of-type {\n",
       "        vertical-align: middle;\n",
       "    }\n",
       "\n",
       "    .dataframe tbody tr th {\n",
       "        vertical-align: top;\n",
       "    }\n",
       "\n",
       "    .dataframe thead th {\n",
       "        text-align: right;\n",
       "    }\n",
       "</style>\n",
       "<table border=\"1\" class=\"dataframe\">\n",
       "  <thead>\n",
       "    <tr style=\"text-align: right;\">\n",
       "      <th></th>\n",
       "      <th>id</th>\n",
       "      <th>type</th>\n",
       "      <th>answer_type</th>\n",
       "      <th>question</th>\n",
       "      <th>author</th>\n",
       "      <th>url</th>\n",
       "      <th>is_collapsed</th>\n",
       "      <th>created_time</th>\n",
       "      <th>updated_time</th>\n",
       "      <th>extras</th>\n",
       "      <th>is_copyable</th>\n",
       "      <th>relationship</th>\n",
       "      <th>ad_answer</th>\n",
       "    </tr>\n",
       "  </thead>\n",
       "  <tbody>\n",
       "    <tr>\n",
       "      <td>0</td>\n",
       "      <td>637938925</td>\n",
       "      <td>answer</td>\n",
       "      <td>normal</td>\n",
       "      <td>{'type': 'question', 'id': 55493026, 'title': ...</td>\n",
       "      <td>{'id': 'e8c4768eaa41e3749f7e8bc5ac6aa74b', 'ur...</td>\n",
       "      <td>https://www.zhihu.com/api/v4/answers/637938925</td>\n",
       "      <td>False</td>\n",
       "      <td>1554085028</td>\n",
       "      <td>1558451618</td>\n",
       "      <td></td>\n",
       "      <td>True</td>\n",
       "      <td>{'upvoted_followees': []}</td>\n",
       "      <td>None</td>\n",
       "    </tr>\n",
       "    <tr>\n",
       "      <td>1</td>\n",
       "      <td>683070334</td>\n",
       "      <td>answer</td>\n",
       "      <td>normal</td>\n",
       "      <td>{'type': 'question', 'id': 55493026, 'title': ...</td>\n",
       "      <td>{'id': '36f69162230003d316d0b8a6d8da20ba', 'ur...</td>\n",
       "      <td>https://www.zhihu.com/api/v4/answers/683070334</td>\n",
       "      <td>False</td>\n",
       "      <td>1557824412</td>\n",
       "      <td>1557824412</td>\n",
       "      <td></td>\n",
       "      <td>True</td>\n",
       "      <td>{'upvoted_followees': []}</td>\n",
       "      <td>None</td>\n",
       "    </tr>\n",
       "    <tr>\n",
       "      <td>2</td>\n",
       "      <td>1106818911</td>\n",
       "      <td>answer</td>\n",
       "      <td>paid</td>\n",
       "      <td>{'type': 'question', 'id': 55493026, 'title': ...</td>\n",
       "      <td>{'id': '1ab00059f301920f1dae9d92386937e6', 'ur...</td>\n",
       "      <td>https://www.zhihu.com/api/v4/answers/1106818911</td>\n",
       "      <td>False</td>\n",
       "      <td>1585227854</td>\n",
       "      <td>1585227854</td>\n",
       "      <td></td>\n",
       "      <td>False</td>\n",
       "      <td>{'upvoted_followees': []}</td>\n",
       "      <td>None</td>\n",
       "    </tr>\n",
       "    <tr>\n",
       "      <td>3</td>\n",
       "      <td>163537026</td>\n",
       "      <td>answer</td>\n",
       "      <td>normal</td>\n",
       "      <td>{'type': 'question', 'id': 55493026, 'title': ...</td>\n",
       "      <td>{'id': 'eaf435b228ce0b038a4afe8203f59b49', 'ur...</td>\n",
       "      <td>https://www.zhihu.com/api/v4/answers/163537026</td>\n",
       "      <td>False</td>\n",
       "      <td>1493693113</td>\n",
       "      <td>1579138388</td>\n",
       "      <td></td>\n",
       "      <td>True</td>\n",
       "      <td>{'upvoted_followees': []}</td>\n",
       "      <td>None</td>\n",
       "    </tr>\n",
       "    <tr>\n",
       "      <td>4</td>\n",
       "      <td>873825546</td>\n",
       "      <td>answer</td>\n",
       "      <td>normal</td>\n",
       "      <td>{'type': 'question', 'id': 55493026, 'title': ...</td>\n",
       "      <td>{'id': '4d1c2c77bc7431c2a6006d154198e8b9', 'ur...</td>\n",
       "      <td>https://www.zhihu.com/api/v4/answers/873825546</td>\n",
       "      <td>False</td>\n",
       "      <td>1572318426</td>\n",
       "      <td>1587220473</td>\n",
       "      <td></td>\n",
       "      <td>False</td>\n",
       "      <td>{'upvoted_followees': []}</td>\n",
       "      <td>None</td>\n",
       "    </tr>\n",
       "  </tbody>\n",
       "</table>\n",
       "</div>"
      ],
      "text/plain": [
       "           id    type answer_type  \\\n",
       "0   637938925  answer      normal   \n",
       "1   683070334  answer      normal   \n",
       "2  1106818911  answer        paid   \n",
       "3   163537026  answer      normal   \n",
       "4   873825546  answer      normal   \n",
       "\n",
       "                                            question  \\\n",
       "0  {'type': 'question', 'id': 55493026, 'title': ...   \n",
       "1  {'type': 'question', 'id': 55493026, 'title': ...   \n",
       "2  {'type': 'question', 'id': 55493026, 'title': ...   \n",
       "3  {'type': 'question', 'id': 55493026, 'title': ...   \n",
       "4  {'type': 'question', 'id': 55493026, 'title': ...   \n",
       "\n",
       "                                              author  \\\n",
       "0  {'id': 'e8c4768eaa41e3749f7e8bc5ac6aa74b', 'ur...   \n",
       "1  {'id': '36f69162230003d316d0b8a6d8da20ba', 'ur...   \n",
       "2  {'id': '1ab00059f301920f1dae9d92386937e6', 'ur...   \n",
       "3  {'id': 'eaf435b228ce0b038a4afe8203f59b49', 'ur...   \n",
       "4  {'id': '4d1c2c77bc7431c2a6006d154198e8b9', 'ur...   \n",
       "\n",
       "                                               url  is_collapsed  \\\n",
       "0   https://www.zhihu.com/api/v4/answers/637938925         False   \n",
       "1   https://www.zhihu.com/api/v4/answers/683070334         False   \n",
       "2  https://www.zhihu.com/api/v4/answers/1106818911         False   \n",
       "3   https://www.zhihu.com/api/v4/answers/163537026         False   \n",
       "4   https://www.zhihu.com/api/v4/answers/873825546         False   \n",
       "\n",
       "   created_time  updated_time extras  is_copyable               relationship  \\\n",
       "0    1554085028    1558451618                True  {'upvoted_followees': []}   \n",
       "1    1557824412    1557824412                True  {'upvoted_followees': []}   \n",
       "2    1585227854    1585227854               False  {'upvoted_followees': []}   \n",
       "3    1493693113    1579138388                True  {'upvoted_followees': []}   \n",
       "4    1572318426    1587220473               False  {'upvoted_followees': []}   \n",
       "\n",
       "  ad_answer  \n",
       "0      None  \n",
       "1      None  \n",
       "2      None  \n",
       "3      None  \n",
       "4      None  "
      ]
     },
     "execution_count": 48,
     "metadata": {},
     "output_type": "execute_result"
    }
   ],
   "source": [
    "#DataFrame\n",
    "import pandas as pd\n",
    "print('表格化')\n",
    "data = pd.DataFrame(data['data'])\n",
    "data"
   ]
  },
  {
   "cell_type": "code",
   "execution_count": 52,
   "metadata": {},
   "outputs": [
    {
     "name": "stdout",
     "output_type": "stream",
     "text": [
      "1486390229\n",
      "2017-02-06 22:10:29\n"
     ]
    }
   ],
   "source": [
    "question_time = data['data'][0]['question']['created']\n",
    "print(question_time)\n",
    "#補充: Timestamp 轉成 時間\n",
    "from datetime import datetime\n",
    "question_time_date = datetime.fromtimestamp(question_time)\n",
    "print(question_time_date)"
   ]
  },
  {
   "cell_type": "markdown",
   "metadata": {},
   "source": [
    "### 2. 取出第一筆與最後一筆回答的時間"
   ]
  },
  {
   "cell_type": "code",
   "execution_count": 53,
   "metadata": {},
   "outputs": [
    {
     "name": "stdout",
     "output_type": "stream",
     "text": [
      "1554085028\n",
      "1572318426\n",
      "2019-04-01 10:17:08\n",
      "2019-10-29 11:07:06\n"
     ]
    }
   ],
   "source": [
    "# 2. 取出第一筆與最後一筆回答的時間\n",
    "\n",
    "first_answer_time = data['data'][0]['created_time']\n",
    "\n",
    "latest = 0\n",
    "for row in data['data']:\n",
    "    if row['created_time'] > latest:\n",
    "        latest_answer_time = row['created_time']\n",
    "\n",
    "print(first_answer_time)\n",
    "print(latest_answer_time)\n",
    "\n",
    "first_answer_time_date = datetime.fromtimestamp(first_answer_time)\n",
    "print(first_answer_time_date)\n",
    "latest_answer_time_date = datetime.fromtimestamp(latest_answer_time)\n",
    "print(latest_answer_time_date)"
   ]
  }
 ],
 "metadata": {
  "kernelspec": {
   "display_name": "Python 3",
   "language": "python",
   "name": "python3"
  },
  "language_info": {
   "codemirror_mode": {
    "name": "ipython",
    "version": 3
   },
   "file_extension": ".py",
   "mimetype": "text/x-python",
   "name": "python",
   "nbconvert_exporter": "python",
   "pygments_lexer": "ipython3",
   "version": "3.7.4"
  }
 },
 "nbformat": 4,
 "nbformat_minor": 2
}

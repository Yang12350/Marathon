{
 "cells": [
  {
   "cell_type": "markdown",
   "metadata": {},
   "source": [
    "（簡答題）檔案、API、爬蟲三種取得資料方式有什麼不同？\n",
    "\n",
    "* 檔案:會有檔案可以提供下載\n",
    "* API:可以選擇某些特定資料做下載\n",
    "* 爬蟲:自行用爬蟲程式做網頁爬蟲以取得需要的資料"
   ]
  },
  {
   "cell_type": "code",
   "execution_count": 42,
   "metadata": {},
   "outputs": [
    {
     "data": {
      "text/plain": [
       "('Homework.txt', <http.client.HTTPMessage at 0x1e039bb8808>)"
      ]
     },
     "execution_count": 42,
     "metadata": {},
     "output_type": "execute_result"
    }
   ],
   "source": [
    "# 1.下載檔案到 Data 資料夾，存成檔名 Homework.txt\n",
    "from urllib.request import urlretrieve\n",
    "import os\n",
    "urlretrieve(\"https://www.w3.org/TR/PNG/iso_8859-1.txt\", \"Homework.txt\") "
   ]
  },
  {
   "cell_type": "code",
   "execution_count": 14,
   "metadata": {},
   "outputs": [
    {
     "name": "stdout",
     "output_type": "stream",
     "text": [
      ".anaconda\n",
      ".bash_history\n",
      ".conda\n",
      ".condarc\n",
      ".dotnet\n",
      ".freemind\n",
      ".git\n",
      ".gitconfig\n",
      ".idlerc\n",
      ".ipynb_checkpoints\n",
      ".ipython\n",
      ".jupyter\n",
      ".keras\n",
      ".LINE\n",
      ".matplotlib\n",
      ".mume\n",
      ".nuget\n",
      ".QtWebEngineProcess\n",
      ".spss\n",
      ".templateengine\n",
      ".vscode\n",
      "1219 RNN_LSTM-checkpoint.ipynb\n",
      "1219 RNN_LSTM.ipynb\n",
      "1219 RNN_LSTM_北護-checkpoint.ipynb\n",
      "3D Objects\n",
      "airline-passengers.csv\n",
      "AppData\n",
      "Application Data\n",
      "Carseats.xlsx\n",
      "clf.pkl\n",
      "Cookies\n",
      "Creative Cloud Files\n",
      "Data\n",
      "Day001_HW.ipynb\n",
      "Day001_Sample.ipynb\n",
      "Downloads\n",
      "Excercis_NLTK-1-checkpoint.ipynb\n",
      "Excercis_NLTK-1.ipynb\n",
      "final.ipynb\n",
      "Homework.txt\n",
      "HP\n",
      "IntelGraphicsProfiles\n",
      "k_means_main.py\n",
      "LinearR_test.py\n",
      "Local Settings\n",
      "LR_test.py\n",
      "LSTM.ipynb\n",
      "MicrosoftEdgeBackups\n",
      "My Documents\n",
      "NetHood\n",
      "NTUSER.DAT\n",
      "ntuser.dat.LOG1\n",
      "ntuser.dat.LOG2\n",
      "NTUSER.DAT{c9f17ffd-2bbd-11ea-9bd6-cb8917b97829}.TM.blf\n",
      "NTUSER.DAT{c9f17ffd-2bbd-11ea-9bd6-cb8917b97829}.TMContainer00000000000000000001.regtrans-ms\n",
      "NTUSER.DAT{c9f17ffd-2bbd-11ea-9bd6-cb8917b97829}.TMContainer00000000000000000002.regtrans-ms\n",
      "ntuser.ini\n",
      "OneDrive\n",
      "practice.ipynb\n",
      "PrintHood\n",
      "Python 練習.ipynb\n",
      "Recent\n",
      "repo\n",
      "RNN_LSTM-checkpoint (1).ipynb\n",
      "Roaming\n",
      "SendTo\n",
      "source\n",
      "SPY.csv\n",
      "Templates\n",
      "tree.pkl\n",
      "Untitled Folder\n",
      "Untitled.ipynb\n",
      "Untitled1.ipynb\n",
      "Untitled2.ipynb\n",
      "「開始」功能表\n",
      "北護_gym3.ipynb\n",
      "北護_gym4.ipynb\n",
      "期末.ipynb\n",
      "歸一標準化.ipynb\n",
      "混淆矩陣.ipynb\n",
      "空氣品質.xlsx\n",
      "網路爬蟲TEST.ipynb\n",
      "資料特性分析練習(研究所錄取率).ipynb\n",
      "資料科學資料集.xlsx\n",
      "類神經網路.ipynb\n"
     ]
    }
   ],
   "source": [
    "import os, sys\n",
    "\n",
    "# 打開文件（預設位置會是跟 .ipynb 程式相同的目錄）\n",
    "dirs = os.listdir( './' )\n",
    "\n",
    "# 顯示所有文件\n",
    "for file in dirs:\n",
    "    print(file)"
   ]
  },
  {
   "cell_type": "code",
   "execution_count": 25,
   "metadata": {},
   "outputs": [
    {
     "name": "stdout",
     "output_type": "stream",
     "text": [
      "[O] 檢查 Data 資料夾是否有 Homework.txt 檔名之檔案\n"
     ]
    }
   ],
   "source": [
    "# 2.檢查 Data 資料夾是否有 Homework.txt 檔名之檔案\n",
    "\n",
    "files = os.listdir( './Data' )\n",
    "if 'Homework.txt' in files:\n",
    "    print('[O] 檢查 Data 資料夾是否有 Homework.txt 檔名之檔案')\n",
    "else:\n",
    "    print('[X] 檢查 Data 資料夾是否有 Homework.txt 檔名之檔案')"
   ]
  },
  {
   "cell_type": "code",
   "execution_count": 38,
   "metadata": {},
   "outputs": [
    {
     "name": "stdout",
     "output_type": "stream",
     "text": [
      "11\n",
      "Hello World\n"
     ]
    }
   ],
   "source": [
    "# 3.將「Hello World」字串覆寫到 Homework.txt 檔案\n",
    "\n",
    "f = ''\n",
    "\n",
    "with open(\"./Data/Homework.txt\", \"w\") as fh:\n",
    " \n",
    "    f = fh.write(\"Hello World\")    \n",
    "    print(f)\n",
    "    \n",
    "    \n",
    "    \n",
    "try:\n",
    "    with open(\"./Data/Homework.txt\", \"r\") as fh:\n",
    "        f = fh.read()\n",
    "        print(f)\n",
    "except EnvironmentError: # parent of IOError, OSError *and* WindowsError where available\n",
    "    pass  "
   ]
  },
  {
   "cell_type": "code",
   "execution_count": 41,
   "metadata": {
    "scrolled": true
   },
   "outputs": [
    {
     "name": "stdout",
     "output_type": "stream",
     "text": [
      "[O] 檢查 Homework.txt 檔案字數是否符合 Hello World 字數\n"
     ]
    }
   ],
   "source": [
    "# 4.檢查 Homework.txt 檔案字數是否符合 Hello World 字數\n",
    "if len('Hello World') == len(f):\n",
    "    print('[O] 檢查 Homework.txt 檔案字數是否符合 Hello World 字數')\n",
    "else:\n",
    "    print('[X] 檢查 Homework.txt 檔案字數是否符合 Hello World 字數')"
   ]
  }
 ],
 "metadata": {
  "kernelspec": {
   "display_name": "Python 3",
   "language": "python",
   "name": "python3"
  },
  "language_info": {
   "codemirror_mode": {
    "name": "ipython",
    "version": 3
   },
   "file_extension": ".py",
   "mimetype": "text/x-python",
   "name": "python",
   "nbconvert_exporter": "python",
   "pygments_lexer": "ipython3",
   "version": "3.7.4"
  }
 },
 "nbformat": 4,
 "nbformat_minor": 2
}
